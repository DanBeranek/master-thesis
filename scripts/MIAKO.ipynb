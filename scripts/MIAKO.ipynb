{
 "cells": [
  {
   "cell_type": "code",
   "execution_count": 1,
   "id": "93445d7d-df09-41ca-b6b5-ef7fe8cff12b",
   "metadata": {},
   "outputs": [],
   "source": [
    "import numpy as np\n",
    "import matplotlib.pyplot as plt\n",
    "from math import *"
   ]
  },
  {
   "cell_type": "code",
   "execution_count": 2,
   "id": "a7b52401-ef60-41f5-89df-9e3f102ca128",
   "metadata": {},
   "outputs": [
    {
     "name": "stdout",
     "output_type": "stream",
     "text": [
      "Using PARDISO solver\n"
     ]
    }
   ],
   "source": [
    "from concreteproperties.material import Concrete, SteelBar\n",
    "from concreteproperties.stress_strain_profile import (\n",
    "ConcreteLinear,\n",
    "RectangularStressBlock,\n",
    "SteelElasticPlastic,\n",
    ")\n",
    "from sectionproperties.pre.library.concrete_sections import concrete_rectangular_section\n",
    "from sectionproperties.pre.geometry import Geometry\n",
    "from sectionproperties.pre.library.primitive_sections import *\n",
    "from concreteproperties.pre import add_bar_rectangular_array, add_bar\n",
    "from sectionproperties.analysis.section import Section\n",
    "from concreteproperties.analysis_section import AnalysisSection\n",
    "from concreteproperties.concrete_section import ConcreteSection\n",
    "\n",
    "from concreteproperties.results import MomentInteractionResults, MomentCurvatureResults\n",
    "\n",
    "from concreteproperties import EurocodeNonLinear "
   ]
  },
  {
   "cell_type": "code",
   "execution_count": 3,
   "id": "abcd43e3-a05f-48f9-ad3e-3a8df19e01d6",
   "metadata": {},
   "outputs": [],
   "source": [
    "class PotNosnik:\n",
    "    def __init__(self, delka):\n",
    "        if (delka<1750):\n",
    "            raise ValueError(f\"Zadana hodnota {delka:.0f} mm je mensi nez minimalni delka nosniku 1750 mm!\")\n",
    "        if (delka>8250):\n",
    "            raise ValueError(f\"Zadana hodnota {delka:.0f} mm je vetsi nez minimalni delka nosniku 8250 mm!\")\n",
    "        if (delka % 250 != 0.):\n",
    "            raise ValueError(\"Nosnik neni v modulu 250 mm!\")\n",
    "        self.delka = delka\n",
    "        self.ds_horni = 8\n",
    "        self.ucinnost_svaru_diagonaly = 0.6\n",
    "        self.oznaceni = f\"POT {int(self.delka/10)}/902\"\n",
    "        if (self.delka <= 6250):\n",
    "            self.vyska_tramecku = 175\n",
    "            self.dw_diag = 5\n",
    "        else:\n",
    "            self.vyska_tramecku = 230\n",
    "            self.dw_diag = 6\n",
    "        # prumer krajni vyztuze\n",
    "        if (self.delka <= 2750):\n",
    "            self.ds_krajni = 8\n",
    "        elif (self.delka <= 3750):\n",
    "            self.ds_krajni = 10\n",
    "        else:\n",
    "            self.ds_krajni = 12\n",
    "        #prumer stredni vyztuze\n",
    "        if (self.delka <= 4250):\n",
    "            self.ds_stredni = 0\n",
    "        elif (self.delka == 4500):\n",
    "            self.ds_stredni = 6\n",
    "        elif (self.delka == 4750):\n",
    "            self.ds_stredni = 8\n",
    "        elif (self.delka == 5000):\n",
    "            self.ds_stredni = 10\n",
    "        elif (self.delka <= 5750):\n",
    "            self.ds_stredni = 12\n",
    "        elif (self.delka <= 6500):\n",
    "            self.ds_stredni = 14\n",
    "        elif (self.delka == 6750):\n",
    "            self.ds_stredni = 16\n",
    "        elif (self.delka <= 7500):\n",
    "            self.ds_stredni = 18\n",
    "        else:\n",
    "            self.ds_stredni = 20"
   ]
  },
  {
   "cell_type": "code",
   "execution_count": 4,
   "id": "a31e7292-1fc3-43f2-8b30-02c1159d35c0",
   "metadata": {},
   "outputs": [],
   "source": [
    "#============================== DEFINICE FUNKCI ==============================\n",
    "def vlozka_miako_geom(ovn, vys_vlozky):\n",
    "    \"\"\"\n",
    "    Geometrie vlozky pomoci knihovny sectionproperties\n",
    "    \"\"\"\n",
    "    b_vlozka = ovn-100\n",
    "    if vys_vlozky == 80:\n",
    "        rec = rectangular_section(d=vys_vlozky, b=b_vlozka/2, material=None)\n",
    "        rec1 = rectangular_section(d=60, b=30, material=None).align_to(other=rec, on=\"bottom\", inner=True).align_to(other=rec, on=\"left\", inner=True)\n",
    "        pulka_vlozky = (rec - rec1)\n",
    "    elif vys_vlozky == 250:\n",
    "        rec = rectangular_section(d=vys_vlozky, b=b_vlozka/2, material=None)\n",
    "        rec1 = rectangular_section(d=60, b=35, material=None).align_to(other=rec, on=\"bottom\", inner=True).align_to(other=rec, on=\"left\", inner=True)\n",
    "        rec2 = rectangular_section(d=16, b=84, material=None).align_to(other=rec, on=\"top\", inner=True).align_to(other=rec, on=\"left\", inner=True)\n",
    "        rec3 = rectangular_section(d=26, b=99, material=None).align_to(other=rec2, on=\"bottom\", inner=False).align_to(other=rec, on=\"left\", inner=True)\n",
    "        tri = triangular_section(b=99,h=-33).align_to(other=rec3, on=\"bottom\", inner=False).align_to(other=rec, on=\"left\", inner=True)\n",
    "        pulka_vlozky = (rec - rec1 - rec2 - rec3 - tri)\n",
    "    elif vys_vlozky in [150, 190, 230]:\n",
    "        rec = rectangular_section(d=vys_vlozky, b=b_vlozka/2, material=None)\n",
    "        rec1 = rectangular_section(d=60, b=35, material=None).align_to(other=rec, on=\"bottom\", inner=True).align_to(other=rec, on=\"left\", inner=True)\n",
    "        tri = triangular_section(b=15,h=-40).align_to(other=rec, on=\"top\", inner=True).align_to(other=rec, on=\"left\", inner=True).shift_section(0,-12)\n",
    "        pulka_vlozky = (rec - rec1 - tri)\n",
    "    return pulka_vlozky\n",
    "\n",
    "def pot_nosnik_geom(pot_nosnik):\n",
    "    \"\"\"\n",
    "    Geometrie POT nosniku + vyztuzeni pomoci knihovny sectionproperties a concreteproperties\n",
    "    \"\"\"\n",
    "    #geometry\n",
    "    rec = rectangular_section(d=45, b=130, material=C25)\n",
    "    tri1 = triangular_section(b=5.5,h=-5.5, material=C25).rotate_section(-135).align_to(other=rec, on=\"top\", inner=True).align_to(other=rec, on=\"left\", inner=True)\n",
    "    tri2 = tri1.mirror_section(axis=\"y\").align_to(other=rec, on=\"top\", inner=True).align_to(other=rec, on=\"right\", inner=True)\n",
    "    pot = rec - tri1 - tri2\n",
    "    #rebar\n",
    "    pot = add_bar_rectangular_array(geometry=pot, area=pi*pot_nosnik.ds_krajni**2/4, material=B500B, n_x=2, x_s=130-30-pot_nosnik.ds_krajni, n_y=1, y_s=420,anchor=(15+pot_nosnik.ds_krajni/2, 15+pot_nosnik.ds_krajni/2))\n",
    "    if pot_nosnik.ds_stredni != 0:\n",
    "        pot = add_bar(geometry=pot, area=pi*pot_nosnik.ds_stredni**2/4, material=B500B, x=130/2, y=15+pot_nosnik.ds_stredni/2)\n",
    "    y_horni = 15 - pot_nosnik.ds_horni / 2\n",
    "    y_horni += 175 if pot_nosnik.delka <= 6250. else 230\n",
    "    pot = add_bar(geometry=pot, area=pi*pot_nosnik.ds_horni**2/4, material=B500B, x=130/2, y=y_horni)\n",
    "    return pot\n",
    "\n",
    "def miako_prurez_ULS(pot_nosnik, pocet_pot, vyska_vlozky, sirky_vlozek, tloustka_stropu, beton, kari_prumer, kari_vzdalenost):\n",
    "    \"\"\"\n",
    "    Definice prurezu stropu v MSU pomoci knihovny sectionproperties a concreteproperties\n",
    "    \"\"\"\n",
    "    b_eff = (sirky_vlozek[0]+sirky_vlozek[1])/2 + (pocet_pot-1)*160\n",
    "    rec = rectangular_section(d=tloustka_stropu, b=b_eff, material=beton)\n",
    "    vlozka_left = vlozka_miako_geom(sirky_vlozek[0], vyska_vlozky).mirror_section(axis=\"y\").align_to(other=rec, on=\"bottom\", inner=True).align_to(other=rec, on=\"left\", inner=True)\n",
    "    vlozka_right = vlozka_miako_geom(sirky_vlozek[1], vyska_vlozky).align_to(other=rec, on=\"bottom\", inner=True).align_to(other=rec, on=\"right\", inner=True)\n",
    "    rec2 = rectangular_section(d=60, b=b_eff, material=None)\n",
    "    \n",
    "    n_x = int(floor(b_eff / kari_vzdalenost))\n",
    "    anchor = (\n",
    "        (b_eff - (n_x-1) * kari_vzdalenost) / 2,\n",
    "        (tloustka_stropu - 20 - kari_prumer / 2)\n",
    "    )\n",
    "    rec = add_bar_rectangular_array(geometry=rec, area=pi*kari_prumer**2/4, material=B500B, n_x=n_x, x_s=kari_vzdalenost, n_y=1, y_s=69, anchor=anchor)\n",
    "    \n",
    "    geom = rec - vlozka_left - vlozka_right - rec2\n",
    "    pot = pot_nosnik_geom(pot_nosnik).align_to(other=geom, on=\"bottom\", inner=True).shift_section(y_offset=-45)\n",
    "    for n in range(pocet_pot):\n",
    "        geom = geom + pot.shift_section(sirky_vlozek[0]/2-130/2+n*160)\n",
    "    conc_sec = ConcreteSection(geom)\n",
    "    \n",
    "    return conc_sec"
   ]
  },
  {
   "cell_type": "code",
   "execution_count": 5,
   "id": "d6bce227-9ba6-4634-9ec6-7dd47b2e4c5e",
   "metadata": {},
   "outputs": [],
   "source": [
    "#============================== VSTUPY ==============================\n",
    "F_CK = [20, 25, 30, 35]\n",
    "OVN = [(500,500), (500,625), (625,625)]\n",
    "POCET_POT = [1,2]\n",
    "TL_STROPU = [210, 250, 250, 290]\n",
    "VYS_VLOZKY = [150, 190, 250, 230]\n",
    "# L = np.arange(4500,8500,250)\n",
    "\n",
    "# F_CK = [20]\n",
    "# OVN = [(625,625)]\n",
    "# POCET_POT = [1]\n",
    "# TL_STROPU = [290]\n",
    "# VYS_VLOZKY = [230]\n",
    "# L = np.arange(4500,-3500+8500,250)\n",
    "\n",
    "#============================== DEFINICE MATERIALU ==============================\n",
    "B500B = SteelBar(\n",
    "    name=\"BSt 500 M\",\n",
    "    density=7.85e-6,\n",
    "    stress_strain_profile=SteelElasticPlastic(\n",
    "        yield_strength=500/1.15,\n",
    "        elastic_modulus=200e3,\n",
    "        fracture_strain=0.1,\n",
    "    ),\n",
    "    colour=\"red\",\n",
    ")\n",
    "\n",
    "conc_mat = EurocodeNonLinear(\n",
    "    elastic_modulus=35e3,\n",
    "    ultimate_strain=0.0035,\n",
    "    compressive_strength=40,\n",
    "    compressive_strain=0.0023,\n",
    "    tensile_strength=3.5,\n",
    "    tension_softening_stiffness=7e3,\n",
    ")\n",
    "\n",
    "C25 = Concrete(name=\"C25/30\",\n",
    "               density=2.4e-6,\n",
    "               stress_strain_profile=conc_mat,\n",
    "               ultimate_stress_strain_profile=RectangularStressBlock(\n",
    "               compressive_strength=25,\n",
    "               alpha=2/3,\n",
    "               gamma=0.8,\n",
    "               ultimate_strain=0.0035,\n",
    "               ),\n",
    "               flexural_tensile_strength=3.4,\n",
    "               colour=\"darkgrey\",\n",
    "               )\n",
    "\n",
    "C20 = Concrete(name=\"C20/25\",\n",
    "               density=2.4e-6,\n",
    "               stress_strain_profile=conc_mat,\n",
    "               ultimate_stress_strain_profile=RectangularStressBlock(\n",
    "               compressive_strength=25,\n",
    "               alpha=2/3,\n",
    "               gamma=0.8,\n",
    "               ultimate_strain=0.0035,\n",
    "               ),\n",
    "               flexural_tensile_strength=3.4,\n",
    "               colour=\"grey\",\n",
    "               )"
   ]
  },
  {
   "cell_type": "code",
   "execution_count": 6,
   "id": "119ab5a0-09f5-400a-9cd2-2062032bd891",
   "metadata": {},
   "outputs": [
    {
     "data": {
      "text/plain": [
       "<__main__.PotNosnik at 0x7e5b14f57d50>"
      ]
     },
     "execution_count": 6,
     "metadata": {},
     "output_type": "execute_result"
    }
   ],
   "source": [
    "pot = PotNosnik(delka=4000)\n",
    "pot"
   ]
  },
  {
   "cell_type": "code",
   "execution_count": 7,
   "id": "13d5dd4c-006c-434b-be25-22fdbcec0a43",
   "metadata": {},
   "outputs": [
    {
     "name": "stderr",
     "output_type": "stream",
     "text": [
      "/home/daniel/repos/master-thesis/.venv/lib/python3.11/site-packages/concreteproperties/concrete_section.py:61: UserWarning: The provided geometry contains overlapping regions, results may be incorrect.\n",
      "  warnings.warn(msg)\n"
     ]
    },
    {
     "data": {
      "image/png": "[encoded data removed]",
      "text/plain": [
       "<Figure size 640x480 with 1 Axes>"
      ]
     },
     "metadata": {},
     "output_type": "display_data"
    },
    {
     "data": {
      "text/plain": [
       "<Axes: title={'center': 'Reinforced Concrete Section'}>"
      ]
     },
     "execution_count": 7,
     "metadata": {},
     "output_type": "execute_result"
    }
   ],
   "source": [
    "concrete_section = miako_prurez_ULS(\n",
    "    pot_nosnik=pot,\n",
    "    pocet_pot=1,\n",
    "    vyska_vlozky=80,\n",
    "    sirky_vlozek=(500, 500),\n",
    "    tloustka_stropu=250,\n",
    "    beton=C25,\n",
    "    kari_prumer=6,\n",
    "    kari_vzdalenost=100,\n",
    ")\n",
    "\n",
    "concrete_section.plot_section()"
   ]
  },
  {
   "cell_type": "code",
   "execution_count": 8,
   "id": "53613cad-9437-41d1-8924-d979e0a9fb01",
   "metadata": {},
   "outputs": [
    {
     "data": {
      "application/vnd.jupyter.widget-view+json": {
       "model_id": "0dc4a593f2cb48988ef246bf493f760e",
       "version_major": 2,
       "version_minor": 0
      },
      "text/plain": [
       "Output()"
      ]
     },
     "metadata": {},
     "output_type": "display_data"
    },
    {
     "data": {
      "text/html": [
       "<pre style=\"white-space:pre;overflow-x:auto;line-height:normal;font-family:Menlo,'DejaVu Sans Mono',consolas,'Courier New',monospace\"></pre>\n"
      ],
      "text/plain": []
     },
     "metadata": {},
     "output_type": "display_data"
    },
    {
     "data": {
      "application/vnd.jupyter.widget-view+json": {
       "model_id": "5a73276ca3f5459d942f724a614f1660",
       "version_major": 2,
       "version_minor": 0
      },
      "text/plain": [
       "Output()"
      ]
     },
     "metadata": {},
     "output_type": "display_data"
    },
    {
     "data": {
      "text/html": [
       "<pre style=\"white-space:pre;overflow-x:auto;line-height:normal;font-family:Menlo,'DejaVu Sans Mono',consolas,'Courier New',monospace\"></pre>\n"
      ],
      "text/plain": []
     },
     "metadata": {},
     "output_type": "display_data"
    }
   ],
   "source": [
    "mi_res_pos = concrete_section.moment_interaction_diagram(progress_bar=True)\n",
    "mi_res_neg = concrete_section.moment_interaction_diagram(theta=np.pi, progress_bar=True)"
   ]
  },
  {
   "cell_type": "code",
   "execution_count": 9,
   "id": "9c143214-afea-4b0a-98f0-321f9bac6764",
   "metadata": {},
   "outputs": [
    {
     "data": {
      "image/png": "[encoded data removed]",
      "text/plain": [
       "<Figure size 640x480 with 1 Axes>"
      ]
     },
     "metadata": {},
     "output_type": "display_data"
    },
    {
     "data": {
      "text/plain": [
       "<Axes: title={'center': 'Moment Interaction Diagram'}, xlabel='Bending Moment', ylabel='Axial Force'>"
      ]
     },
     "execution_count": 9,
     "metadata": {},
     "output_type": "execute_result"
    }
   ],
   "source": [
    "MomentInteractionResults.plot_multiple_diagrams(\n",
    "    moment_interaction_results=[mi_res_pos, mi_res_neg],\n",
    "    labels=[\"Positive\", \"Negative\"],\n",
    "    fmt=\"-\",\n",
    ")"
   ]
  },
  {
   "cell_type": "code",
   "execution_count": null,
   "id": "754eca7b-0ccb-49d0-924c-4ac34a7a49b9",
   "metadata": {},
   "outputs": [
    {
     "data": {
      "application/vnd.jupyter.widget-view+json": {
       "model_id": "145af00584ab4badb7139d3c81450149",
       "version_major": 2,
       "version_minor": 0
      },
      "text/plain": [
       "Output()"
      ]
     },
     "metadata": {},
     "output_type": "display_data"
    },
    {
     "data": {
      "text/html": [
       "<pre style=\"white-space:pre;overflow-x:auto;line-height:normal;font-family:Menlo,'DejaVu Sans Mono',consolas,'Courier New',monospace\"></pre>\n"
      ],
      "text/plain": []
     },
     "metadata": {},
     "output_type": "display_data"
    },
    {
     "data": {
      "application/vnd.jupyter.widget-view+json": {
       "model_id": "6302256c9bf0433c9b43369b9fff8028",
       "version_major": 2,
       "version_minor": 0
      },
      "text/plain": [
       "Output()"
      ]
     },
     "metadata": {},
     "output_type": "display_data"
    }
   ],
   "source": [
    "mk_res_pos = concrete_section.moment_curvature_analysis()\n",
    "mk_res_neg = concrete_section.moment_curvature_analysis(theta=np.pi)"
   ]
  },
  {
   "cell_type": "code",
   "execution_count": null,
   "id": "ad75c271-579b-477c-bdf4-53eb5bb62f97",
   "metadata": {},
   "outputs": [],
   "source": [
    "MomentCurvatureResults.plot_multiple_results(\n",
    "    moment_curvature_results=[mk_res_pos],# mk_res_neg], \n",
    "    labels=['+'], \n",
    "    fmt=\"x-\"\n",
    ")"
   ]
  },
  {
   "cell_type": "code",
   "execution_count": null,
   "id": "7d2b988a-91a7-4e6a-8436-27a49604e6b7",
   "metadata": {},
   "outputs": [],
   "source": []
  }
 ],
 "metadata": {
  "kernelspec": {
   "display_name": "venv",
   "language": "python",
   "name": "venv"
  },
  "language_info": {
   "codemirror_mode": {
    "name": "ipython",
    "version": 3
   },
   "file_extension": ".py",
   "mimetype": "text/x-python",
   "name": "python",
   "nbconvert_exporter": "python",
   "pygments_lexer": "ipython3",
   "version": "3.11.9"
  }
 },
 "nbformat": 4,
 "nbformat_minor": 5
}
